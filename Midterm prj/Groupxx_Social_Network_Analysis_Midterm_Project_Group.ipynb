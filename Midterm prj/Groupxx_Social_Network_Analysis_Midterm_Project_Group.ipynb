{
  "nbformat": 4,
  "nbformat_minor": 0,
  "metadata": {
    "colab": {
      "provenance": [],
      "authorship_tag": "ABX9TyNC2qvdsvA8Jjt0JfXlTqB6"
    },
    "kernelspec": {
      "name": "python3",
      "display_name": "Python 3"
    },
    "language_info": {
      "name": "python"
    }
  },
  "cells": [
    {
      "cell_type": "markdown",
      "source": [
        "# Midterm project\n",
        "\n",
        "## By Afrizal I. Yafi' and Fajri Ahmad N.\n",
        "\n",
        "<br> <br>\n",
        "\n",
        "### Ref:\n",
        "\n",
        "* https://youtu.be/PUMMCLrVn8A\n",
        "\n",
        "---"
      ],
      "metadata": {
        "id": "Ek1bqtt7aDUt"
      }
    },
    {
      "cell_type": "code",
      "execution_count": null,
      "metadata": {
        "id": "nC04Jchkn-Fj"
      },
      "outputs": [],
      "source": [
        "# Install lib yang digunakan\n",
        "!pip install snscrape"
      ]
    },
    {
      "cell_type": "code",
      "source": [
        "import pandas as pd  # Mengimpor library pandas dan memberikan alias pd.\n",
        "from tqdm.notebook import tqdm  # Mengimpor fungsi tqdm dari library tqdm.notebook. Fungsi tqdm digunakan untuk menampilkan progress bar pada saat mengambil data tweet.\n",
        "import snscrape.modules.twitter as sntwitter  # Mengimpor modul Twitter dari library snscrape dan memberikan alias sntwitter. Modul ini digunakan untuk mengambil data tweet dari Twitter.\n",
        "import networkx as nx  # Mengimpor library NetworkX dan memberikan alias nx. Library NetworkX digunakan untuk membangun graf untuk melakukan analisis jaringan.\n",
        "import matplotlib.pyplot as plt  # Mengimpor library pyplot dari library Matplotlib dan memberikan alias plt. Library Matplotlib digunakan untuk membuat visualisasi grafik.\n",
        "import warnings  # Mengimpor library warnings.\n",
        "warnings.filterwarnings('ignore')  # Mengaktifkan mode peringatan 'ignore' pada library warnings, yang akan menonaktifkan semua peringatan yang akan dikeluarkan oleh Python.\n"
      ],
      "metadata": {
        "id": "MazEn63uYdUK"
      },
      "execution_count": null,
      "outputs": []
    },
    {
      "cell_type": "code",
      "source": [
        "# Membuat list untuk menyimpan data\n",
        "listTweets = []\n",
        "\n",
        "# Menentukan jumlah maksimum tweet yang akan dicrawl\n",
        "nTweets = 5000\n",
        "\n",
        "# Menggunakan TwitterSearchScraper untuk crawling data dan menambahkan tweet ke list\n",
        "for i, tweet in tqdm(enumerate(sntwitter.TwitterSearchScraper('#Coachella min_faves:1000 min_retweets:100 lang:en  -filter:replies').get_items()), total=nTweets):\n",
        "    if i > nTweets:  # Jika i melebihi nTweets, maka keluar dari loop\n",
        "        break\n",
        "    # Menambahkan tweet ke dalam listTweets dengan mengambil informasi tanggal, id tweet, isi tweet, dan username pengguna\n",
        "    listTweets.append([tweet.date, tweet.id, tweet.content, tweet.user.username])\n",
        "\n",
        "# Membuat dataframe dari list    \n",
        "tweets_df2 = pd.DataFrame(listTweets, columns=['Datetime', 'Tweet Id', 'Text', 'Username'])\n",
        "\n",
        "# Menyimpan list dalam bentuk csv\n",
        "tweets_df2.to_csv(\"dataf1hastags.csv\", index=False)"
      ],
      "metadata": {
        "id": "RD6ZtOFwa9n3"
      },
      "execution_count": null,
      "outputs": []
    },
    {
      "cell_type": "code",
      "source": [],
      "metadata": {
        "id": "lwL13wPPbACD"
      },
      "execution_count": null,
      "outputs": []
    }
  ]
}