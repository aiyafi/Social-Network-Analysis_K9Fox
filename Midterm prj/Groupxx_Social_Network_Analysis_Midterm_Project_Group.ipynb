{
  "nbformat": 4,
  "nbformat_minor": 0,
  "metadata": {
    "colab": {
      "provenance": [],
      "authorship_tag": "ABX9TyNR0mquixNdXiyW5sphTSoj"
    },
    "kernelspec": {
      "name": "python3",
      "display_name": "Python 3"
    },
    "language_info": {
      "name": "python"
    },
    "widgets": {
      "application/vnd.jupyter.widget-state+json": {
        "ac3144875b1948f89c715c104e95be14": {
          "model_module": "@jupyter-widgets/controls",
          "model_name": "HBoxModel",
          "model_module_version": "1.5.0",
          "state": {
            "_dom_classes": [],
            "_model_module": "@jupyter-widgets/controls",
            "_model_module_version": "1.5.0",
            "_model_name": "HBoxModel",
            "_view_count": null,
            "_view_module": "@jupyter-widgets/controls",
            "_view_module_version": "1.5.0",
            "_view_name": "HBoxView",
            "box_style": "",
            "children": [
              "IPY_MODEL_48f33275fbea42a5a57c9872ed6ad2b1",
              "IPY_MODEL_87a615b061814d548bdbbb6e8e7765a4",
              "IPY_MODEL_9d9abc61b4334d609707951a94546684"
            ],
            "layout": "IPY_MODEL_83534634a25843a0bf94a30829d44fb2"
          }
        },
        "48f33275fbea42a5a57c9872ed6ad2b1": {
          "model_module": "@jupyter-widgets/controls",
          "model_name": "HTMLModel",
          "model_module_version": "1.5.0",
          "state": {
            "_dom_classes": [],
            "_model_module": "@jupyter-widgets/controls",
            "_model_module_version": "1.5.0",
            "_model_name": "HTMLModel",
            "_view_count": null,
            "_view_module": "@jupyter-widgets/controls",
            "_view_module_version": "1.5.0",
            "_view_name": "HTMLView",
            "description": "",
            "description_tooltip": null,
            "layout": "IPY_MODEL_d442912fbff34b659d4f1c645f23e992",
            "placeholder": "​",
            "style": "IPY_MODEL_4a29479adde548a9ae0800ebfc9f68a6",
            "value": "100%"
          }
        },
        "87a615b061814d548bdbbb6e8e7765a4": {
          "model_module": "@jupyter-widgets/controls",
          "model_name": "FloatProgressModel",
          "model_module_version": "1.5.0",
          "state": {
            "_dom_classes": [],
            "_model_module": "@jupyter-widgets/controls",
            "_model_module_version": "1.5.0",
            "_model_name": "FloatProgressModel",
            "_view_count": null,
            "_view_module": "@jupyter-widgets/controls",
            "_view_module_version": "1.5.0",
            "_view_name": "ProgressView",
            "bar_style": "danger",
            "description": "",
            "description_tooltip": null,
            "layout": "IPY_MODEL_4ca7d9a0a3254256b394a596b1d3c2b8",
            "max": 1001,
            "min": 0,
            "orientation": "horizontal",
            "style": "IPY_MODEL_58bc9e6725c44f71accab0cddbc1a06f",
            "value": 1001
          }
        },
        "9d9abc61b4334d609707951a94546684": {
          "model_module": "@jupyter-widgets/controls",
          "model_name": "HTMLModel",
          "model_module_version": "1.5.0",
          "state": {
            "_dom_classes": [],
            "_model_module": "@jupyter-widgets/controls",
            "_model_module_version": "1.5.0",
            "_model_name": "HTMLModel",
            "_view_count": null,
            "_view_module": "@jupyter-widgets/controls",
            "_view_module_version": "1.5.0",
            "_view_name": "HTMLView",
            "description": "",
            "description_tooltip": null,
            "layout": "IPY_MODEL_3ebf8021e2c54df7bb57aff49d1f4872",
            "placeholder": "​",
            "style": "IPY_MODEL_86a33ad16efc4deeaa296f362176d31f",
            "value": " 1001/1001 [00:32&lt;00:00, 29.68it/s]"
          }
        },
        "83534634a25843a0bf94a30829d44fb2": {
          "model_module": "@jupyter-widgets/base",
          "model_name": "LayoutModel",
          "model_module_version": "1.2.0",
          "state": {
            "_model_module": "@jupyter-widgets/base",
            "_model_module_version": "1.2.0",
            "_model_name": "LayoutModel",
            "_view_count": null,
            "_view_module": "@jupyter-widgets/base",
            "_view_module_version": "1.2.0",
            "_view_name": "LayoutView",
            "align_content": null,
            "align_items": null,
            "align_self": null,
            "border": null,
            "bottom": null,
            "display": null,
            "flex": null,
            "flex_flow": null,
            "grid_area": null,
            "grid_auto_columns": null,
            "grid_auto_flow": null,
            "grid_auto_rows": null,
            "grid_column": null,
            "grid_gap": null,
            "grid_row": null,
            "grid_template_areas": null,
            "grid_template_columns": null,
            "grid_template_rows": null,
            "height": null,
            "justify_content": null,
            "justify_items": null,
            "left": null,
            "margin": null,
            "max_height": null,
            "max_width": null,
            "min_height": null,
            "min_width": null,
            "object_fit": null,
            "object_position": null,
            "order": null,
            "overflow": null,
            "overflow_x": null,
            "overflow_y": null,
            "padding": null,
            "right": null,
            "top": null,
            "visibility": null,
            "width": null
          }
        },
        "d442912fbff34b659d4f1c645f23e992": {
          "model_module": "@jupyter-widgets/base",
          "model_name": "LayoutModel",
          "model_module_version": "1.2.0",
          "state": {
            "_model_module": "@jupyter-widgets/base",
            "_model_module_version": "1.2.0",
            "_model_name": "LayoutModel",
            "_view_count": null,
            "_view_module": "@jupyter-widgets/base",
            "_view_module_version": "1.2.0",
            "_view_name": "LayoutView",
            "align_content": null,
            "align_items": null,
            "align_self": null,
            "border": null,
            "bottom": null,
            "display": null,
            "flex": null,
            "flex_flow": null,
            "grid_area": null,
            "grid_auto_columns": null,
            "grid_auto_flow": null,
            "grid_auto_rows": null,
            "grid_column": null,
            "grid_gap": null,
            "grid_row": null,
            "grid_template_areas": null,
            "grid_template_columns": null,
            "grid_template_rows": null,
            "height": null,
            "justify_content": null,
            "justify_items": null,
            "left": null,
            "margin": null,
            "max_height": null,
            "max_width": null,
            "min_height": null,
            "min_width": null,
            "object_fit": null,
            "object_position": null,
            "order": null,
            "overflow": null,
            "overflow_x": null,
            "overflow_y": null,
            "padding": null,
            "right": null,
            "top": null,
            "visibility": null,
            "width": null
          }
        },
        "4a29479adde548a9ae0800ebfc9f68a6": {
          "model_module": "@jupyter-widgets/controls",
          "model_name": "DescriptionStyleModel",
          "model_module_version": "1.5.0",
          "state": {
            "_model_module": "@jupyter-widgets/controls",
            "_model_module_version": "1.5.0",
            "_model_name": "DescriptionStyleModel",
            "_view_count": null,
            "_view_module": "@jupyter-widgets/base",
            "_view_module_version": "1.2.0",
            "_view_name": "StyleView",
            "description_width": ""
          }
        },
        "4ca7d9a0a3254256b394a596b1d3c2b8": {
          "model_module": "@jupyter-widgets/base",
          "model_name": "LayoutModel",
          "model_module_version": "1.2.0",
          "state": {
            "_model_module": "@jupyter-widgets/base",
            "_model_module_version": "1.2.0",
            "_model_name": "LayoutModel",
            "_view_count": null,
            "_view_module": "@jupyter-widgets/base",
            "_view_module_version": "1.2.0",
            "_view_name": "LayoutView",
            "align_content": null,
            "align_items": null,
            "align_self": null,
            "border": null,
            "bottom": null,
            "display": null,
            "flex": null,
            "flex_flow": null,
            "grid_area": null,
            "grid_auto_columns": null,
            "grid_auto_flow": null,
            "grid_auto_rows": null,
            "grid_column": null,
            "grid_gap": null,
            "grid_row": null,
            "grid_template_areas": null,
            "grid_template_columns": null,
            "grid_template_rows": null,
            "height": null,
            "justify_content": null,
            "justify_items": null,
            "left": null,
            "margin": null,
            "max_height": null,
            "max_width": null,
            "min_height": null,
            "min_width": null,
            "object_fit": null,
            "object_position": null,
            "order": null,
            "overflow": null,
            "overflow_x": null,
            "overflow_y": null,
            "padding": null,
            "right": null,
            "top": null,
            "visibility": null,
            "width": null
          }
        },
        "58bc9e6725c44f71accab0cddbc1a06f": {
          "model_module": "@jupyter-widgets/controls",
          "model_name": "ProgressStyleModel",
          "model_module_version": "1.5.0",
          "state": {
            "_model_module": "@jupyter-widgets/controls",
            "_model_module_version": "1.5.0",
            "_model_name": "ProgressStyleModel",
            "_view_count": null,
            "_view_module": "@jupyter-widgets/base",
            "_view_module_version": "1.2.0",
            "_view_name": "StyleView",
            "bar_color": null,
            "description_width": ""
          }
        },
        "3ebf8021e2c54df7bb57aff49d1f4872": {
          "model_module": "@jupyter-widgets/base",
          "model_name": "LayoutModel",
          "model_module_version": "1.2.0",
          "state": {
            "_model_module": "@jupyter-widgets/base",
            "_model_module_version": "1.2.0",
            "_model_name": "LayoutModel",
            "_view_count": null,
            "_view_module": "@jupyter-widgets/base",
            "_view_module_version": "1.2.0",
            "_view_name": "LayoutView",
            "align_content": null,
            "align_items": null,
            "align_self": null,
            "border": null,
            "bottom": null,
            "display": null,
            "flex": null,
            "flex_flow": null,
            "grid_area": null,
            "grid_auto_columns": null,
            "grid_auto_flow": null,
            "grid_auto_rows": null,
            "grid_column": null,
            "grid_gap": null,
            "grid_row": null,
            "grid_template_areas": null,
            "grid_template_columns": null,
            "grid_template_rows": null,
            "height": null,
            "justify_content": null,
            "justify_items": null,
            "left": null,
            "margin": null,
            "max_height": null,
            "max_width": null,
            "min_height": null,
            "min_width": null,
            "object_fit": null,
            "object_position": null,
            "order": null,
            "overflow": null,
            "overflow_x": null,
            "overflow_y": null,
            "padding": null,
            "right": null,
            "top": null,
            "visibility": null,
            "width": null
          }
        },
        "86a33ad16efc4deeaa296f362176d31f": {
          "model_module": "@jupyter-widgets/controls",
          "model_name": "DescriptionStyleModel",
          "model_module_version": "1.5.0",
          "state": {
            "_model_module": "@jupyter-widgets/controls",
            "_model_module_version": "1.5.0",
            "_model_name": "DescriptionStyleModel",
            "_view_count": null,
            "_view_module": "@jupyter-widgets/base",
            "_view_module_version": "1.2.0",
            "_view_name": "StyleView",
            "description_width": ""
          }
        }
      }
    }
  },
  "cells": [
    {
      "cell_type": "markdown",
      "source": [
        "# Midterm project\n",
        "\n",
        "## By Afrizal I. Yafi' and Fajri Ahmad N.\n",
        "\n",
        "<br> <br>\n",
        "\n",
        "### Ref:\n",
        "\n",
        "* https://youtu.be/PUMMCLrVn8A\n",
        "\n",
        "---"
      ],
      "metadata": {
        "id": "Ek1bqtt7aDUt"
      }
    },
    {
      "cell_type": "code",
      "execution_count": null,
      "metadata": {
        "id": "nC04Jchkn-Fj",
        "colab": {
          "base_uri": "https://localhost:8080/"
        },
        "outputId": "ab54a2e5-31d6-415f-f363-f8f4db53608b"
      },
      "outputs": [
        {
          "output_type": "stream",
          "name": "stdout",
          "text": [
            "Looking in indexes: https://pypi.org/simple, https://us-python.pkg.dev/colab-wheels/public/simple/\n",
            "Collecting snscrape\n",
            "  Downloading snscrape-0.6.2.20230320-py3-none-any.whl (71 kB)\n",
            "\u001b[2K     \u001b[90m━━━━━━━━━━━━━━━━━━━━━━━━━━━━━━━━━━━━━━━━\u001b[0m \u001b[32m71.8/71.8 KB\u001b[0m \u001b[31m4.9 MB/s\u001b[0m eta \u001b[36m0:00:00\u001b[0m\n",
            "\u001b[?25hRequirement already satisfied: beautifulsoup4 in /usr/local/lib/python3.9/dist-packages (from snscrape) (4.11.2)\n",
            "Requirement already satisfied: lxml in /usr/local/lib/python3.9/dist-packages (from snscrape) (4.9.2)\n",
            "Requirement already satisfied: filelock in /usr/local/lib/python3.9/dist-packages (from snscrape) (3.10.7)\n",
            "Requirement already satisfied: requests[socks] in /usr/local/lib/python3.9/dist-packages (from snscrape) (2.27.1)\n",
            "Requirement already satisfied: soupsieve>1.2 in /usr/local/lib/python3.9/dist-packages (from beautifulsoup4->snscrape) (2.4)\n",
            "Requirement already satisfied: certifi>=2017.4.17 in /usr/local/lib/python3.9/dist-packages (from requests[socks]->snscrape) (2022.12.7)\n",
            "Requirement already satisfied: idna<4,>=2.5 in /usr/local/lib/python3.9/dist-packages (from requests[socks]->snscrape) (3.4)\n",
            "Requirement already satisfied: urllib3<1.27,>=1.21.1 in /usr/local/lib/python3.9/dist-packages (from requests[socks]->snscrape) (1.26.15)\n",
            "Requirement already satisfied: charset-normalizer~=2.0.0 in /usr/local/lib/python3.9/dist-packages (from requests[socks]->snscrape) (2.0.12)\n",
            "Requirement already satisfied: PySocks!=1.5.7,>=1.5.6 in /usr/local/lib/python3.9/dist-packages (from requests[socks]->snscrape) (1.7.1)\n",
            "Installing collected packages: snscrape\n",
            "Successfully installed snscrape-0.6.2.20230320\n"
          ]
        }
      ],
      "source": [
        "# Install lib yang digunakan\n",
        "!pip install snscrape"
      ]
    },
    {
      "cell_type": "code",
      "source": [
        "import pandas as pd  # Mengimpor library pandas dan memberikan alias pd.\n",
        "from tqdm.notebook import tqdm  # Mengimpor fungsi tqdm dari library tqdm.notebook. Fungsi tqdm digunakan untuk menampilkan progress bar pada saat mengambil data tweet.\n",
        "import snscrape.modules.twitter as sntwitter  # Mengimpor modul Twitter dari library snscrape dan memberikan alias sntwitter. Modul ini digunakan untuk mengambil data tweet dari Twitter.\n",
        "import networkx as nx  # Mengimpor library NetworkX dan memberikan alias nx. Library NetworkX digunakan untuk membangun graf untuk melakukan analisis jaringan.\n",
        "import matplotlib.pyplot as plt  # Mengimpor library pyplot dari library Matplotlib dan memberikan alias plt. Library Matplotlib digunakan untuk membuat visualisasi grafik.\n",
        "import warnings  # Mengimpor library warnings.\n",
        "warnings.filterwarnings('ignore')  # Mengaktifkan mode peringatan 'ignore' pada library warnings, yang akan menonaktifkan semua peringatan yang akan dikeluarkan oleh Python.\n"
      ],
      "metadata": {
        "id": "MazEn63uYdUK"
      },
      "execution_count": null,
      "outputs": []
    },
    {
      "cell_type": "code",
      "source": [
        "# Membuat list untuk menyimpan data\n",
        "listTweets = []\n",
        "\n",
        "# Menentukan jumlah maksimum tweet yang akan dicrawl\n",
        "nTweets = 1000\n",
        "\n",
        "# Menggunakan TwitterSearchScraper untuk crawling data dan menambahkan tweet ke list\n",
        "for i, tweet in tqdm(enumerate(sntwitter.TwitterSearchScraper('#Coachella min_faves:1000 min_retweets:100 lang:en  -filter:replies').get_items()), total=nTweets + 1):\n",
        "    if i > nTweets:  # Jika i melebihi nTweets, maka keluar dari loop\n",
        "        break\n",
        "    # Menambahkan tweet ke dalam listTweets dengan mengambil informasi tanggal, id tweet, isi tweet, dan username pengguna\n",
        "    listTweets.append([tweet.date, tweet.id, tweet.content, tweet.user.username])\n",
        "\n",
        "# Membuat dataframe dari list    \n",
        "twtDataFrame = pd.DataFrame(listTweets, columns=['Datetime', 'Tweet Id', 'Text', 'Username'])\n",
        "\n",
        "# Menyimpan list dalam bentuk csv\n",
        "#twtDataFrame.to_csv(\"dataf1hastags.csv\", index=False)"
      ],
      "metadata": {
        "id": "RD6ZtOFwa9n3",
        "colab": {
          "base_uri": "https://localhost:8080/",
          "height": 49,
          "referenced_widgets": [
            "ac3144875b1948f89c715c104e95be14",
            "48f33275fbea42a5a57c9872ed6ad2b1",
            "87a615b061814d548bdbbb6e8e7765a4",
            "9d9abc61b4334d609707951a94546684",
            "83534634a25843a0bf94a30829d44fb2",
            "d442912fbff34b659d4f1c645f23e992",
            "4a29479adde548a9ae0800ebfc9f68a6",
            "4ca7d9a0a3254256b394a596b1d3c2b8",
            "58bc9e6725c44f71accab0cddbc1a06f",
            "3ebf8021e2c54df7bb57aff49d1f4872",
            "86a33ad16efc4deeaa296f362176d31f"
          ]
        },
        "outputId": "feb24212-86d6-4c68-f566-cf7ff3325504"
      },
      "execution_count": null,
      "outputs": [
        {
          "output_type": "display_data",
          "data": {
            "text/plain": [
              "  0%|          | 0/1001 [00:00<?, ?it/s]"
            ],
            "application/vnd.jupyter.widget-view+json": {
              "version_major": 2,
              "version_minor": 0,
              "model_id": "ac3144875b1948f89c715c104e95be14"
            }
          },
          "metadata": {}
        }
      ]
    },
    {
      "cell_type": "code",
      "source": [
        "twtDataFrame.head(10)"
      ],
      "metadata": {
        "colab": {
          "base_uri": "https://localhost:8080/",
          "height": 363
        },
        "id": "3GupuUkwpIqx",
        "outputId": "5f8d36aa-082f-4e67-9719-4be41e0304b6"
      },
      "execution_count": null,
      "outputs": [
        {
          "output_type": "execute_result",
          "data": {
            "text/plain": [
              "                   Datetime             Tweet Id  \\\n",
              "0 2023-03-21 19:10:00+00:00  1638256663315509251   \n",
              "1 2023-03-09 18:00:01+00:00  1633890397075144704   \n",
              "2 2023-01-14 13:38:21+00:00  1614255602896863234   \n",
              "3 2023-01-13 03:38:44+00:00  1613742316052951041   \n",
              "4 2023-01-11 23:03:33+00:00  1613310674326913024   \n",
              "5 2023-01-11 01:49:15+00:00  1612989988211392512   \n",
              "6 2023-01-11 01:47:10+00:00  1612989461314564098   \n",
              "7 2023-01-10 22:40:01+00:00  1612942366209458177   \n",
              "8 2023-01-10 22:12:55+00:00  1612935545419870208   \n",
              "9 2023-01-10 22:12:09+00:00  1612935352435490816   \n",
              "\n",
              "                                                Text         Username  \n",
              "0  remember when @BLACKPINK played #coachella in ...     youtubemusic  \n",
              "1  when you hear @BLACKPINK performing from acros...     youtubemusic  \n",
              "2  Congratulations Rosé. BLACKPINK is headlining ...  YoshikiOfficial  \n",
              "3  Finally happened.. 🥹 #coachella https://t.co/y...          _DPRREM  \n",
              "4  Bad Bunny, BLACKPINK and Frank Ocean will head...        billboard  \n",
              "5  #BLACKPINK COACHELLA HEADLINER ANNOUNCEMENT PO...   ygent_official  \n",
              "6  BLACKPINK COACHELLA HEADLINER ANNOUNCEMENT POS...        BLACKPINK  \n",
              "7  #BLACKPINK  (@BLACKPINK) is set to become the ...           UPROXX  \n",
              "8  kali uchis will be closing out the main stage ...   LaUnicaUpdates  \n",
              "9  For the first time in history, #Coachella head...       BuzzingPop  "
            ],
            "text/html": [
              "\n",
              "  <div id=\"df-3b3e5202-b8f3-4b72-a719-051ceb09e8e8\">\n",
              "    <div class=\"colab-df-container\">\n",
              "      <div>\n",
              "<style scoped>\n",
              "    .dataframe tbody tr th:only-of-type {\n",
              "        vertical-align: middle;\n",
              "    }\n",
              "\n",
              "    .dataframe tbody tr th {\n",
              "        vertical-align: top;\n",
              "    }\n",
              "\n",
              "    .dataframe thead th {\n",
              "        text-align: right;\n",
              "    }\n",
              "</style>\n",
              "<table border=\"1\" class=\"dataframe\">\n",
              "  <thead>\n",
              "    <tr style=\"text-align: right;\">\n",
              "      <th></th>\n",
              "      <th>Datetime</th>\n",
              "      <th>Tweet Id</th>\n",
              "      <th>Text</th>\n",
              "      <th>Username</th>\n",
              "    </tr>\n",
              "  </thead>\n",
              "  <tbody>\n",
              "    <tr>\n",
              "      <th>0</th>\n",
              "      <td>2023-03-21 19:10:00+00:00</td>\n",
              "      <td>1638256663315509251</td>\n",
              "      <td>remember when @BLACKPINK played #coachella in ...</td>\n",
              "      <td>youtubemusic</td>\n",
              "    </tr>\n",
              "    <tr>\n",
              "      <th>1</th>\n",
              "      <td>2023-03-09 18:00:01+00:00</td>\n",
              "      <td>1633890397075144704</td>\n",
              "      <td>when you hear @BLACKPINK performing from acros...</td>\n",
              "      <td>youtubemusic</td>\n",
              "    </tr>\n",
              "    <tr>\n",
              "      <th>2</th>\n",
              "      <td>2023-01-14 13:38:21+00:00</td>\n",
              "      <td>1614255602896863234</td>\n",
              "      <td>Congratulations Rosé. BLACKPINK is headlining ...</td>\n",
              "      <td>YoshikiOfficial</td>\n",
              "    </tr>\n",
              "    <tr>\n",
              "      <th>3</th>\n",
              "      <td>2023-01-13 03:38:44+00:00</td>\n",
              "      <td>1613742316052951041</td>\n",
              "      <td>Finally happened.. 🥹 #coachella https://t.co/y...</td>\n",
              "      <td>_DPRREM</td>\n",
              "    </tr>\n",
              "    <tr>\n",
              "      <th>4</th>\n",
              "      <td>2023-01-11 23:03:33+00:00</td>\n",
              "      <td>1613310674326913024</td>\n",
              "      <td>Bad Bunny, BLACKPINK and Frank Ocean will head...</td>\n",
              "      <td>billboard</td>\n",
              "    </tr>\n",
              "    <tr>\n",
              "      <th>5</th>\n",
              "      <td>2023-01-11 01:49:15+00:00</td>\n",
              "      <td>1612989988211392512</td>\n",
              "      <td>#BLACKPINK COACHELLA HEADLINER ANNOUNCEMENT PO...</td>\n",
              "      <td>ygent_official</td>\n",
              "    </tr>\n",
              "    <tr>\n",
              "      <th>6</th>\n",
              "      <td>2023-01-11 01:47:10+00:00</td>\n",
              "      <td>1612989461314564098</td>\n",
              "      <td>BLACKPINK COACHELLA HEADLINER ANNOUNCEMENT POS...</td>\n",
              "      <td>BLACKPINK</td>\n",
              "    </tr>\n",
              "    <tr>\n",
              "      <th>7</th>\n",
              "      <td>2023-01-10 22:40:01+00:00</td>\n",
              "      <td>1612942366209458177</td>\n",
              "      <td>#BLACKPINK  (@BLACKPINK) is set to become the ...</td>\n",
              "      <td>UPROXX</td>\n",
              "    </tr>\n",
              "    <tr>\n",
              "      <th>8</th>\n",
              "      <td>2023-01-10 22:12:55+00:00</td>\n",
              "      <td>1612935545419870208</td>\n",
              "      <td>kali uchis will be closing out the main stage ...</td>\n",
              "      <td>LaUnicaUpdates</td>\n",
              "    </tr>\n",
              "    <tr>\n",
              "      <th>9</th>\n",
              "      <td>2023-01-10 22:12:09+00:00</td>\n",
              "      <td>1612935352435490816</td>\n",
              "      <td>For the first time in history, #Coachella head...</td>\n",
              "      <td>BuzzingPop</td>\n",
              "    </tr>\n",
              "  </tbody>\n",
              "</table>\n",
              "</div>\n",
              "      <button class=\"colab-df-convert\" onclick=\"convertToInteractive('df-3b3e5202-b8f3-4b72-a719-051ceb09e8e8')\"\n",
              "              title=\"Convert this dataframe to an interactive table.\"\n",
              "              style=\"display:none;\">\n",
              "        \n",
              "  <svg xmlns=\"http://www.w3.org/2000/svg\" height=\"24px\"viewBox=\"0 0 24 24\"\n",
              "       width=\"24px\">\n",
              "    <path d=\"M0 0h24v24H0V0z\" fill=\"none\"/>\n",
              "    <path d=\"M18.56 5.44l.94 2.06.94-2.06 2.06-.94-2.06-.94-.94-2.06-.94 2.06-2.06.94zm-11 1L8.5 8.5l.94-2.06 2.06-.94-2.06-.94L8.5 2.5l-.94 2.06-2.06.94zm10 10l.94 2.06.94-2.06 2.06-.94-2.06-.94-.94-2.06-.94 2.06-2.06.94z\"/><path d=\"M17.41 7.96l-1.37-1.37c-.4-.4-.92-.59-1.43-.59-.52 0-1.04.2-1.43.59L10.3 9.45l-7.72 7.72c-.78.78-.78 2.05 0 2.83L4 21.41c.39.39.9.59 1.41.59.51 0 1.02-.2 1.41-.59l7.78-7.78 2.81-2.81c.8-.78.8-2.07 0-2.86zM5.41 20L4 18.59l7.72-7.72 1.47 1.35L5.41 20z\"/>\n",
              "  </svg>\n",
              "      </button>\n",
              "      \n",
              "  <style>\n",
              "    .colab-df-container {\n",
              "      display:flex;\n",
              "      flex-wrap:wrap;\n",
              "      gap: 12px;\n",
              "    }\n",
              "\n",
              "    .colab-df-convert {\n",
              "      background-color: #E8F0FE;\n",
              "      border: none;\n",
              "      border-radius: 50%;\n",
              "      cursor: pointer;\n",
              "      display: none;\n",
              "      fill: #1967D2;\n",
              "      height: 32px;\n",
              "      padding: 0 0 0 0;\n",
              "      width: 32px;\n",
              "    }\n",
              "\n",
              "    .colab-df-convert:hover {\n",
              "      background-color: #E2EBFA;\n",
              "      box-shadow: 0px 1px 2px rgba(60, 64, 67, 0.3), 0px 1px 3px 1px rgba(60, 64, 67, 0.15);\n",
              "      fill: #174EA6;\n",
              "    }\n",
              "\n",
              "    [theme=dark] .colab-df-convert {\n",
              "      background-color: #3B4455;\n",
              "      fill: #D2E3FC;\n",
              "    }\n",
              "\n",
              "    [theme=dark] .colab-df-convert:hover {\n",
              "      background-color: #434B5C;\n",
              "      box-shadow: 0px 1px 3px 1px rgba(0, 0, 0, 0.15);\n",
              "      filter: drop-shadow(0px 1px 2px rgba(0, 0, 0, 0.3));\n",
              "      fill: #FFFFFF;\n",
              "    }\n",
              "  </style>\n",
              "\n",
              "      <script>\n",
              "        const buttonEl =\n",
              "          document.querySelector('#df-3b3e5202-b8f3-4b72-a719-051ceb09e8e8 button.colab-df-convert');\n",
              "        buttonEl.style.display =\n",
              "          google.colab.kernel.accessAllowed ? 'block' : 'none';\n",
              "\n",
              "        async function convertToInteractive(key) {\n",
              "          const element = document.querySelector('#df-3b3e5202-b8f3-4b72-a719-051ceb09e8e8');\n",
              "          const dataTable =\n",
              "            await google.colab.kernel.invokeFunction('convertToInteractive',\n",
              "                                                     [key], {});\n",
              "          if (!dataTable) return;\n",
              "\n",
              "          const docLinkHtml = 'Like what you see? Visit the ' +\n",
              "            '<a target=\"_blank\" href=https://colab.research.google.com/notebooks/data_table.ipynb>data table notebook</a>'\n",
              "            + ' to learn more about interactive tables.';\n",
              "          element.innerHTML = '';\n",
              "          dataTable['output_type'] = 'display_data';\n",
              "          await google.colab.output.renderOutput(dataTable, element);\n",
              "          const docLink = document.createElement('div');\n",
              "          docLink.innerHTML = docLinkHtml;\n",
              "          element.appendChild(docLink);\n",
              "        }\n",
              "      </script>\n",
              "    </div>\n",
              "  </div>\n",
              "  "
            ]
          },
          "metadata": {},
          "execution_count": 11
        }
      ]
    },
    {
      "cell_type": "code",
      "source": [
        "twtDataFrame.count()"
      ],
      "metadata": {
        "colab": {
          "base_uri": "https://localhost:8080/"
        },
        "id": "R6b8pWByqTzL",
        "outputId": "c9b65d4f-8077-426d-8947-bfc1f7fb7641"
      },
      "execution_count": null,
      "outputs": [
        {
          "output_type": "execute_result",
          "data": {
            "text/plain": [
              "Datetime    1001\n",
              "Tweet Id    1001\n",
              "Text        1001\n",
              "Username    1001\n",
              "dtype: int64"
            ]
          },
          "metadata": {},
          "execution_count": 12
        }
      ]
    },
    {
      "cell_type": "code",
      "source": [],
      "metadata": {
        "id": "Gm1jN57njNQU"
      },
      "execution_count": null,
      "outputs": []
    },
    {
      "cell_type": "code",
      "source": [],
      "metadata": {
        "id": "bZYrmygYiOY-"
      },
      "execution_count": null,
      "outputs": []
    },
    {
      "cell_type": "code",
      "source": [
        "twtDataFrame.isnull().sum()"
      ],
      "metadata": {
        "id": "lwL13wPPbACD",
        "colab": {
          "base_uri": "https://localhost:8080/"
        },
        "outputId": "2868ef69-2661-4740-c881-5cf864d1fc7d"
      },
      "execution_count": null,
      "outputs": [
        {
          "output_type": "execute_result",
          "data": {
            "text/plain": [
              "Datetime    0\n",
              "Tweet Id    0\n",
              "Text        0\n",
              "Username    0\n",
              "dtype: int64"
            ]
          },
          "metadata": {},
          "execution_count": 13
        }
      ]
    },
    {
      "cell_type": "code",
      "source": [],
      "metadata": {
        "id": "qdrPIrokjORg"
      },
      "execution_count": null,
      "outputs": []
    }
  ]
}